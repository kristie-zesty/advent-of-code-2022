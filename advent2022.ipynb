{
 "cells": [
  {
   "cell_type": "markdown",
   "metadata": {},
   "source": [
    "# day 1"
   ]
  },
  {
   "cell_type": "code",
   "execution_count": 34,
   "metadata": {},
   "outputs": [],
   "source": [
    "def find_max_cals(calorie_list):\n",
    "    max_cal = 0\n",
    "    current_cal = 0\n",
    "\n",
    "    for cal in calories:\n",
    "        if cal == '':\n",
    "            current_cal = 0\n",
    "            continue\n",
    "        current_cal += int(cal)\n",
    "        if current_cal > max_cal:\n",
    "            max_cal = current_cal\n",
    "    return max_cal"
   ]
  },
  {
   "cell_type": "code",
   "execution_count": 35,
   "metadata": {},
   "outputs": [
    {
     "data": {
      "text/plain": [
       "69289"
      ]
     },
     "execution_count": 35,
     "metadata": {},
     "output_type": "execute_result"
    }
   ],
   "source": [
    "with open('input.txt','r+') as f:\n",
    "    calories = f.read().splitlines()\n",
    "\n",
    "find_max_cals(calories)"
   ]
  },
  {
   "cell_type": "code",
   "execution_count": 60,
   "metadata": {},
   "outputs": [],
   "source": [
    "def top_3_cals_total(calorie_list):\n",
    "    cals_by_reindeer = []\n",
    "    current_cal = 0\n",
    "    \n",
    "    for cal in calorie_list:\n",
    "        if cal == '':\n",
    "            cals_by_reindeer.append(current_cal)\n",
    "            current_cal = 0\n",
    "            continue\n",
    "        current_cal += int(cal)\n",
    "        \n",
    "    if current_cal > 0: cals_by_reindeer.append(current_cal)\n",
    "    return sum(sorted(cals_by_reindeer)[-3:])"
   ]
  },
  {
   "cell_type": "code",
   "execution_count": 61,
   "metadata": {},
   "outputs": [
    {
     "data": {
      "text/plain": [
       "205615"
      ]
     },
     "execution_count": 61,
     "metadata": {},
     "output_type": "execute_result"
    }
   ],
   "source": [
    "top_3_cals_total(calories)"
   ]
  },
  {
   "cell_type": "markdown",
   "metadata": {},
   "source": [
    "# day 2"
   ]
  },
  {
   "cell_type": "code",
   "execution_count": 81,
   "metadata": {},
   "outputs": [],
   "source": [
    "import pandas as pd\n",
    "\n",
    "def score_rps(row):\n",
    "    winning = {'X': 'C','Y': 'A','Z': 'B'}\n",
    "    choice_pts = {'X': 1, 'Y': 2,'Z': 3}\n",
    "    draw = {'X': 'A','Y': 'B','Z': 'C'}\n",
    "    \n",
    "    score = choice_pts[row['you']]\n",
    "    if row['opponent'] == draw[row['you']]:\n",
    "        return score + 3\n",
    "    if row['opponent'] == winning[row['you']]:\n",
    "        return score + 6\n",
    "    return score\n",
    "    \n",
    "def total_rps_score(df):\n",
    "    return df.apply(score_rps, axis=1).sum()"
   ]
  },
  {
   "cell_type": "code",
   "execution_count": 83,
   "metadata": {},
   "outputs": [
    {
     "data": {
      "text/plain": [
       "14827"
      ]
     },
     "execution_count": 83,
     "metadata": {},
     "output_type": "execute_result"
    }
   ],
   "source": [
    "df = pd.read_csv('input_day2.txt', sep = ' ', header=None, names=['opponent', 'you'])\n",
    "total_rps_score(df)"
   ]
  },
  {
   "cell_type": "code",
   "execution_count": 91,
   "metadata": {},
   "outputs": [],
   "source": [
    "import pandas as pd\n",
    "\n",
    "def score_rps_2(row):\n",
    "    choice_pts = {'rock': 1, 'paper': 2, 'scissors': 3}\n",
    "    winning_choice = {'A': 'paper', 'B': 'scissors', 'C': 'rock'}\n",
    "    draw_choice = {'A': 'rock', 'B': 'paper', 'C': 'scissors'}\n",
    "    losing_choice = {'A': 'scissors', 'B': 'rock', 'C': 'paper'}\n",
    "    game_pts = {'X': 0, 'Y': 3, 'Z': 6}\n",
    "    \n",
    "    score = game_pts[row['outcome']]\n",
    "    if row['outcome'] == 'X': return score + choice_pts[losing_choice[row['opponent']]]\n",
    "    if row['outcome'] == 'Y': return score + choice_pts[draw_choice[row['opponent']]]\n",
    "    return score + choice_pts[winning_choice[row['opponent']]]\n",
    "    \n",
    "def total_rps_score_2(df):\n",
    "    return df.apply(score_rps_2, axis=1).sum()"
   ]
  },
  {
   "cell_type": "code",
   "execution_count": 92,
   "metadata": {},
   "outputs": [
    {
     "data": {
      "text/plain": [
       "13889"
      ]
     },
     "execution_count": 92,
     "metadata": {},
     "output_type": "execute_result"
    }
   ],
   "source": [
    "df = pd.read_csv('input_day2.txt', sep = ' ', header=None, names=['opponent', 'outcome'])\n",
    "total_rps_score_2(df)"
   ]
  },
  {
   "cell_type": "markdown",
   "metadata": {},
   "source": [
    "# day 3"
   ]
  },
  {
   "cell_type": "code",
   "execution_count": 148,
   "metadata": {},
   "outputs": [],
   "source": [
    "import string\n",
    "\n",
    "priorities = list(string.ascii_lowercase) + list(string.ascii_uppercase)\n",
    "\n",
    "def find_rucksack_priority(rucksack):\n",
    "    compartment_1 = set(rucksack[:int(len(rucksack)/2)])\n",
    "    compartment_2 = set(rucksack[int(len(rucksack)/2):])\n",
    "    common_item = list(compartment_1 & compartment_2)[0]\n",
    "    return priorities.index(common_item) + 1\n",
    "\n",
    "def find_total_value(rucksacks):\n",
    "    priority_per_rucksack = [find_rucksack_priority(rucksack) for rucksack in rucksacks]\n",
    "    return sum(priority_per_rucksack)"
   ]
  },
  {
   "cell_type": "code",
   "execution_count": 149,
   "metadata": {},
   "outputs": [
    {
     "data": {
      "text/plain": [
       "7889"
      ]
     },
     "execution_count": 149,
     "metadata": {},
     "output_type": "execute_result"
    }
   ],
   "source": [
    "with open('input_day3.txt','r+') as f:\n",
    "    rucksacks = f.read().splitlines()\n",
    "    \n",
    "find_total_value(rucksacks)"
   ]
  },
  {
   "cell_type": "code",
   "execution_count": 158,
   "metadata": {},
   "outputs": [],
   "source": [
    "import string\n",
    "\n",
    "priorities = list(string.ascii_lowercase) + list(string.ascii_uppercase)\n",
    "\n",
    "def find_rucksack_priority_2(rucksacks):\n",
    "    common_item = list(set(rucksacks[0]) & set(rucksacks[1]) & set(rucksacks[2]))[0]\n",
    "    return priorities.index(common_item) + 1\n",
    "\n",
    "def find_total_value_2(rucksacks):\n",
    "    total_value = 0\n",
    "    for i in range(int(len(rucksacks)/3)):\n",
    "        group_start = i*3\n",
    "        group_end = i*3 + 3\n",
    "        total_value += find_rucksack_priority_2(rucksacks[group_start:group_end])\n",
    "    return total_value"
   ]
  },
  {
   "cell_type": "code",
   "execution_count": 159,
   "metadata": {},
   "outputs": [
    {
     "data": {
      "text/plain": [
       "2825"
      ]
     },
     "execution_count": 159,
     "metadata": {},
     "output_type": "execute_result"
    }
   ],
   "source": [
    "with open('input_day3_2.txt','r+') as f:\n",
    "    rucksacks = f.read().splitlines()\n",
    "    \n",
    "find_total_value_2(rucksacks)"
   ]
  },
  {
   "cell_type": "markdown",
   "metadata": {},
   "source": [
    "# day 4"
   ]
  },
  {
   "cell_type": "code",
   "execution_count": 17,
   "metadata": {},
   "outputs": [],
   "source": [
    "def get_assignment_range(assignment):\n",
    "    assignment_start = int(assignment.split('-')[0])\n",
    "    assignment_end = int(assignment.split('-')[1])\n",
    "    return set([i for i in range(assignment_start, assignment_end + 1)])\n",
    "\n",
    "def assignment_contains_other(assignments):\n",
    "    assignment1 = get_assignment_range(assignments.split(',')[0])\n",
    "    assignment2 = get_assignment_range(assignments.split(',')[1])\n",
    "    \n",
    "    if len(assignment1 & assignment2) == len(assignment1):\n",
    "        return True\n",
    "    \n",
    "    if len(assignment1 & assignment2) == len(assignment2):\n",
    "        return True\n",
    "    \n",
    "    return False\n",
    "\n",
    "def check_all_assignments(all_assignments):\n",
    "    num_contained = 0\n",
    "    for assignments in all_assignments:\n",
    "        if assignment_contains_other(assignments):\n",
    "            num_contained += 1\n",
    "    return num_contained"
   ]
  },
  {
   "cell_type": "code",
   "execution_count": 18,
   "metadata": {},
   "outputs": [
    {
     "data": {
      "text/plain": [
       "651"
      ]
     },
     "execution_count": 18,
     "metadata": {},
     "output_type": "execute_result"
    }
   ],
   "source": [
    "with open('input_day4.txt','r+') as f:\n",
    "    all_assignments = f.read().splitlines()\n",
    "    \n",
    "check_all_assignments(all_assignments)"
   ]
  },
  {
   "cell_type": "code",
   "execution_count": null,
   "metadata": {},
   "outputs": [],
   "source": [
    "def assignment_contains_other(assignments):\n",
    "    assignment1 = get_assignment_range(assignments.split(',')[0])\n",
    "    assignment2 = get_assignment_range(assignments.split(',')[1])\n",
    "    \n",
    "    if len(assignment1 & assignment2) == len(assignment1):\n",
    "        return True\n",
    "    \n",
    "    if len(assignment1 & assignment2) == len(assignment2):\n",
    "        return True\n",
    "    \n",
    "    return False\n",
    "\n",
    "def check_all_assignments(all_assignments):\n",
    "    num_contained = 0\n",
    "    for assignments in all_assignments:\n",
    "        if assignment_contains_other(assignments):\n",
    "            num_contained += 1\n",
    "    return num_contained"
   ]
  },
  {
   "cell_type": "code",
   "execution_count": null,
   "metadata": {},
   "outputs": [],
   "source": []
  },
  {
   "cell_type": "markdown",
   "metadata": {},
   "source": [
    "# day 7"
   ]
  },
  {
   "cell_type": "code",
   "execution_count": 299,
   "metadata": {},
   "outputs": [],
   "source": [
    "from collections import defaultdict\n",
    "\n",
    "def find_file_structure(cmd_input):\n",
    "    current_path = ''\n",
    "    paths = set()\n",
    "    files = dict() #keys: filename, values: file size\n",
    "    \n",
    "    for line in cmd_input:\n",
    "        \n",
    "        #check if it's a command or output\n",
    "        if line.split()[0] == '$':\n",
    "            if line.split()[1] == 'cd':\n",
    "                if line.split()[2] == '/': \n",
    "                    current_path = ''\n",
    "                    continue\n",
    "                if line.split()[2] == '..':\n",
    "                    current_path = '/'.join(current_path.split('/')[:-1])\n",
    "                    continue\n",
    "                current_path = current_path + '/' + line.split()[2]\n",
    "                paths.add(current_path)\n",
    "            continue\n",
    "            \n",
    "        #check if it's a listed directory\n",
    "        if line.split()[0] == 'dir':\n",
    "            paths.add(current_path + '/' + line.split()[1])\n",
    "            continue\n",
    "            \n",
    "        #otherwise it's a file size and file name\n",
    "        files[current_path + '/' + line.split()[1]] = int(line.split()[0])\n",
    "            \n",
    "    return paths, files         \n",
    "                    \n",
    "def dir_total_sizes(cmd_input):\n",
    "    paths, files = find_file_structure(cmd_input)\n",
    "    dir_total_size = defaultdict(int) #keys: directory, values: size\n",
    "    \n",
    "    #add up file sizes in each directory, including subdirectories\n",
    "    for path in paths:\n",
    "        size = 0\n",
    "        for file in files:\n",
    "            if file[:len(path) + 1] == path + '/':\n",
    "                size += files[file]\n",
    "        dir_total_size[path] = size\n",
    "        \n",
    "    return dir_total_size\n",
    "\n",
    "def find_deletable_size(cmd_input):\n",
    "    dir_total_size = dir_total_sizes(cmd_input)\n",
    "    return sum([size for size in dir_total_size.values() if size <= 100000])"
   ]
  },
  {
   "cell_type": "code",
   "execution_count": 300,
   "metadata": {},
   "outputs": [
    {
     "data": {
      "text/plain": [
       "1391690"
      ]
     },
     "execution_count": 300,
     "metadata": {},
     "output_type": "execute_result"
    }
   ],
   "source": [
    "with open('input_day7.txt','r+') as f:\n",
    "    cmd_input = f.read().splitlines()\n",
    "    \n",
    "find_deletable_size(cmd_input)"
   ]
  },
  {
   "cell_type": "code",
   "execution_count": 321,
   "metadata": {},
   "outputs": [],
   "source": [
    "def find_smallest_deletable_dir(cmd_input):\n",
    "    total_space = 70000000\n",
    "    min_free_space = 30000000\n",
    "    \n",
    "    paths, files = find_file_structure(cmd_input)\n",
    "    free_space = total_space - sum(files.values())\n",
    "    \n",
    "    if free_space >= min_free_space:\n",
    "        print('there is enough space')\n",
    "        return\n",
    "    \n",
    "    space_needed = min_free_space - free_space\n",
    "    dir_total_size = dir_total_sizes(cmd_input)\n",
    "    smallest_deletable_dir_size = total_space\n",
    "    \n",
    "    #find smallest directory that frees up enough space\n",
    "    for directory in dir_total_size:\n",
    "        if (dir_total_size[directory] > min_free_space - free_space) & (dir_total_size[directory] < smallest_deletable_dir_size):\n",
    "            smallest_deletable_dir_size = dir_total_size[directory]\n",
    "            \n",
    "    return smallest_deletable_dir_size"
   ]
  },
  {
   "cell_type": "code",
   "execution_count": 322,
   "metadata": {},
   "outputs": [
    {
     "data": {
      "text/plain": [
       "5469168"
      ]
     },
     "execution_count": 322,
     "metadata": {},
     "output_type": "execute_result"
    }
   ],
   "source": [
    "find_smallest_deletable_dir(cmd_input)"
   ]
  },
  {
   "cell_type": "code",
   "execution_count": null,
   "metadata": {},
   "outputs": [],
   "source": []
  }
 ],
 "metadata": {
  "kernelspec": {
   "display_name": "Python 3",
   "language": "python",
   "name": "python3"
  },
  "language_info": {
   "codemirror_mode": {
    "name": "ipython",
    "version": 3
   },
   "file_extension": ".py",
   "mimetype": "text/x-python",
   "name": "python",
   "nbconvert_exporter": "python",
   "pygments_lexer": "ipython3",
   "version": "3.8.5"
  }
 },
 "nbformat": 4,
 "nbformat_minor": 4
}
